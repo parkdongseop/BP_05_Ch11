{
  "nbformat": 4,
  "nbformat_minor": 0,
  "metadata": {
    "colab": {
      "provenance": [],
      "authorship_tag": "ABX9TyNzOcMsOsaX113jPHOvwPgx",
      "include_colab_link": true
    },
    "kernelspec": {
      "name": "python3",
      "display_name": "Python 3"
    },
    "language_info": {
      "name": "python"
    }
  },
  "cells": [
    {
      "cell_type": "markdown",
      "metadata": {
        "id": "view-in-github",
        "colab_type": "text"
      },
      "source": [
        "<a href=\"https://colab.research.google.com/github/parkdongseop/BP_05_Ch11/blob/main/BP_05_EX_Ch11.ipynb\" target=\"_parent\"><img src=\"https://colab.research.google.com/assets/colab-badge.svg\" alt=\"Open In Colab\"/></a>"
      ]
    },
    {
      "cell_type": "markdown",
      "source": [
        "1. 사용자가 입력한 텍스트 파일을 열어서 파일 안에 글자가 몇 개나 있는지를 계산하는 프로그램을 작성하라."
      ],
      "metadata": {
        "id": "0EyzYnsMgJXE"
      }
    },
    {
      "cell_type": "code",
      "execution_count": null,
      "metadata": {
        "id": "5V4qKH0qDwr_"
      },
      "outputs": [],
      "source": [
        "filename = input(\"파일 이름을 입력하세오: \") #파일 경로 입력\n",
        "infile = open(filename,\"r\")\n",
        "ans = 0\n",
        "for line in infile:#여러 줄이 있을 경우 각 줄을 line이라는 변수에 저장함\n",
        "    words = line.split()\n",
        "    for word in words:\n",
        "        ans += len(word) #글자 수를 더함\n",
        "print(\"파일 안에는 총\",ans,\"개의 글자가 있습니다.\")"
      ]
    },
    {
      "cell_type": "markdown",
      "source": [
        "2. 사용자로부터 파일 이름과 삭제할 문자열을 입력받는다. 파일을 열어서 사용자가 원하는 문자열을 삭제한 후에 다시 파일에 쓴다."
      ],
      "metadata": {
        "id": "L1OWn7MjiXch"
      }
    },
    {
      "cell_type": "code",
      "source": [
        "filename = input(\"파일 이름을 입력하세오: \") #파일 경로 입력\n",
        "infile = open(filename,\"r\")\n",
        "read_file = infile.readlines()\n",
        "\n",
        "outfile = open(filename, \"w\")\n",
        "del_word = input(\"삭제할 문자열을 입력하시오: \")#삭제할 문자열 입력\n",
        "\n",
        "for line in read_file: #여러 줄이 있으면 한 줄씩 처리함\n",
        "    l, r = 0, len(del_word)\n",
        "    new_line = \"\" #삭제하지 않아도 되는 문자열을 저장함\n",
        "    while l < len(line): #while문으로 삭제할 단어를 찾아냄\n",
        "        if line[l:r] == del_word: #만약 삭제할 단어가 있을 경우\n",
        "            l += len(del_word)\n",
        "            r += len(del_word)\n",
        "        else: #삭제할 단어가 아닌 경우\n",
        "            new_line += line[l]\n",
        "            l+=1\n",
        "            r+=1\n",
        "    print(new_line, file = outfile, end=\"\") #new_line에 저장한 문자열을 outfile에 작성해줌\n",
        "\n",
        "infile.close()\n",
        "outfile.close()\n",
        "print(\"변경된 파일이 저장되었습니다.\")"
      ],
      "metadata": {
        "id": "qhTSfSjNikAa"
      },
      "execution_count": null,
      "outputs": []
    },
    {
      "cell_type": "markdown",
      "source": [
        "3. 사용자가 입력하는 파일에 있는 각 문자들이 나타내는 빈도를 계산하는 프로그램을 작성하라."
      ],
      "metadata": {
        "id": "i2eGLTgZil5c"
      }
    },
    {
      "cell_type": "code",
      "source": [
        "filename = input(\"입력 파일 이름: \").strip()\n",
        "infile = open(filename, \"r\")\n",
        "\n",
        "\n",
        "def func(line, counter):\n",
        "for c in line:\n",
        "if c.isalpha():#영문자인지를 판단\n",
        "if c in counter:\n",
        "counter[c] = counter[c] + 1# 같은 문자 수를 카운트\n",
        "else:\n",
        "counter[c] = 1\n",
        "\n",
        "\n",
        "dic = { }\n",
        "for line in infile:\n",
        "func(line, dic)\n",
        "print(dic)\n",
        "infile.close()"
      ],
      "metadata": {
        "id": "ju_XMZ6IsI2V"
      },
      "execution_count": null,
      "outputs": []
    },
    {
      "cell_type": "markdown",
      "source": [
        "4. 파이썬에서는 객체를 파일에 저장할 수 있다. pickle 모듈을 사용하여서 정수 12, 실수 3.14, 리스트[1, 2, 3, 4, 5]를 이진 파일 \"test.dat\"에 저장하였다가 다시 읽는 프로그램을 작성하고 테스트하라."
      ],
      "metadata": {
        "id": "PvQFrzOsssUc"
      }
    },
    {
      "cell_type": "code",
      "source": [
        "import pickle\n",
        "\n",
        "\n",
        "#pickle모듈을 사용해 저장\n",
        "outfile = open(\"test.dat\", \"wb\")#저장장소 설정\n",
        "pickle.dump(12, outfile)\n",
        "pickle.dump(3.14, outfile)\n",
        "pickle.dump([1, 2, 3, 4, 5], outfile)\n",
        "outfile.close()\n",
        "\n",
        "\n",
        "#pickle모듈을 사용해 읽기\n",
        "infile = open(\"test.dat\", \"rb\")#읽을파일 지정\n",
        "print(pickle.load(infile))\n",
        "print(pickle.load(infile))\n",
        "print(pickle.load(infile))\n",
        "infile.close()"
      ],
      "metadata": {
        "id": "mjhgwXpqjSlq"
      },
      "execution_count": null,
      "outputs": []
    },
    {
      "cell_type": "markdown",
      "source": [
        "5. 텍스트 파일 \"data.txt\"에 실수값들이 저장되어 있다고 가정하자. 한 줄에 하나의 실수만 저장되어 있다. 이 파일을 읽어서 합계와 평균을 계산한 후에 이것을 \"output.txt\" 파일에 다음과 같이 저장하는 프로그램을 작성하라."
      ],
      "metadata": {
        "id": "Kc-IGeEcjTET"
      }
    },
    {
      "cell_type": "code",
      "source": [
        "infilename = input(\"입력 파일 이름: \") #입력 파일 경로 입력\n",
        "outfilename = input(\"출력 파일 이름: \") #작성할 파일 경로 입력\n",
        "\n",
        "infile = open(infilename,\"r\")\n",
        "outfile = open(outfilename,\"w\")\n",
        "ans = 0 # 숫자를 더해줄 변수를 만들었음\n",
        "k = 0 # infile에 있는 숫자가 몇 개나 있는지 확인하는 변수를 만들었음\n",
        "\n",
        "for line in infile:\n",
        "    ans += float(line) #메모장에 적힌 숫자를 더해줌\n",
        "    k += 1 #k에 1을 더해줘서 나중에 평균을 구할 때 사용함\n",
        "\n",
        "#output 메모장에 합계와 평균을 적어줌\n",
        "print(\"합계=\"+str(ans), file = outfile)\n",
        "print(\"평균=\"+str(ans/k), file = outfile)\n",
        "\n",
        "infile.close()\n",
        "outfile.close()"
      ],
      "metadata": {
        "id": "Rp8t8z-0jxi8"
      },
      "execution_count": null,
      "outputs": []
    },
    {
      "cell_type": "markdown",
      "source": [
        "6. thinker를 사용하여 다음과 같은 사용자 인터페이스를 만든다. \"추가\" 버튼을 누르면 사용자가 입력한 이름과 전화 번호 리스트가 파일 \"phone_book.dat\"에 저장된다. 파일 읽기\"를 누르면 파일 \"phone_book.dat\"에서 이름과 전화 번호를 읽어오는 프로그램을 작성하라."
      ],
      "metadata": {
        "id": "CDT5OnTLjx1M"
      }
    },
    {
      "cell_type": "code",
      "source": [
        "import pickle\n",
        "from tkinter import *\n",
        "\n",
        "\n",
        "phonebook = { }\n",
        "current = 0\n",
        "name = \"\"\n",
        "phone = \"\"\n",
        "\n",
        "\n",
        "window = Tk()\n",
        "\n",
        "\n",
        "frame1 = Frame(window)\n",
        "frame1.pack()\n",
        "Label(frame1, text = \"이름 \").grid(row = 1, column = 1, sticky = W)\n",
        "nameEntry = Entry(frame1, textvariable = name, width = 30)\n",
        "nameEntry.grid(row = 1, column = 2)\n",
        "\n",
        "\n",
        "frame2 = Frame(window)\n",
        "frame2.pack()\n",
        "Label(frame2, text = \"전화번호\").grid(row = 1, column = 1, sticky = W)\n",
        "phoneEntry = Entry(frame2, textvariable = phone, width = 30)\n",
        "phoneEntry.grid(row = 1, column = 2)\n",
        "\n",
        "\n",
        "frame3 = Frame(window)\n",
        "frame3.pack()\n",
        "\n",
        "\n",
        "\n",
        "\n",
        "def save():\n",
        "outfile = open(\"phonebook.dat\", \"wb\")\n",
        "pickle.dump(phonebook, outfile)\n",
        "print(\"주소들이 파일에 저장되었습니다\")\n",
        "outfile.close()\n",
        "\n",
        "\n",
        "def load():\n",
        "infile = open(\"phonebook.dat\", \"rb\")\n",
        "phonebook = pickle.load(infile)\n",
        "infile.close()\n",
        "print(\"파일에서 주소를 읽었습니다.\")\n",
        "go_first()\n",
        "\n",
        "\n",
        "def add():\n",
        "phonebook[nameEntry.get()] = phoneEntry.get()\n",
        "print(phonebook)\n",
        "save()\n",
        "\n",
        "\n",
        "def go_first():\n",
        "global current\n",
        "current = 0\n",
        "ks = list(phonebook)\n",
        "print(phonebook)\n",
        "nameEntry.delete(0, END)\n",
        "nameEntry.insert(0, ks[current])\n",
        "phoneEntry.delete(0, END)\n",
        "phoneEntry.insert(0, phonebook[ks[current]])\n",
        "\n",
        "\n",
        "def go_next():\n",
        "global current\n",
        "current += 1\n",
        "ks = list(phonebook)\n",
        "nameEntry.delete(0, END)\n",
        "nameEntry.insert(0, ks[current])\n",
        "phoneEntry.delete(0, END)\n",
        "phoneEntry.insert(0, phonebook[ks[current]])\n",
        "\n",
        "\n",
        "def go_previous():\n",
        "global current\n",
        "current -= 1\n",
        "ks = list(phonebook)\n",
        "nameEntry.delete(0, END)\n",
        "nameEntry.insert(0, ks[current])\n",
        "phoneEntry.delete(0, END)\n",
        "phoneEntry.insert(0, phonebook[ks[current]])\n",
        "\n",
        "\n",
        "def go_last():\n",
        "global current\n",
        "current = 5\n",
        "ks = list(phonebook)\n",
        "print(phonebook)\n",
        "nameEntry.delete(0, END)\n",
        "nameEntry.insert(0, ks[current])\n",
        "phoneEntry.delete(0, END)\n",
        "phoneEntry.insert(0, phonebook[ks[current]])\n",
        "\n",
        "\n",
        "b1 = Button(frame3, text = \"추가\", command = add).grid(row = 1, column = 1)\n",
        "b2 = Button(frame3, text = \"처음\", command = go_first).grid(row = 1, column = 2)\n",
        "b3 = Button(frame3, text = \"다음\", command = go_next).grid(row = 1, column = 3)\n",
        "b4 = Button(frame3, text = \"이전\", command =go_previous).grid(row = 1, column = 4)\n",
        "b5 = Button(frame3, text = \"마지막\", command = go_last).grid(row = 1, column = 5)\n",
        "b6 = Button(frame3, text = \"파일 읽기\", command = load).grid(row = 1, column = 6)\n",
        "\n",
        "\n",
        "window.mainloop()"
      ],
      "metadata": {
        "id": "DAFJTczxjyd7"
      },
      "execution_count": null,
      "outputs": []
    }
  ]
}